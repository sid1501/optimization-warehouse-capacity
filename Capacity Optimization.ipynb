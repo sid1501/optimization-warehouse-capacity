{
 "cells": [
  {
   "cell_type": "code",
   "execution_count": 95,
   "metadata": {
    "collapsed": true
   },
   "outputs": [],
   "source": [
    "import pandas as pd\n",
    "import numpy as np\n",
    "import gurobipy as grb"
   ]
  },
  {
   "cell_type": "code",
   "execution_count": 96,
   "metadata": {},
   "outputs": [],
   "source": [
    "#reading the data\n",
    "data = pd.read_excel('small_data.xlsx', sheetname = None)"
   ]
  },
  {
   "cell_type": "code",
   "execution_count": 97,
   "metadata": {},
   "outputs": [
    {
     "data": {
      "text/plain": [
       "odict_keys(['Fulfilment Centers', 'Regions', 'Distances', 'Items', 'Demand'])"
      ]
     },
     "execution_count": 97,
     "metadata": {},
     "output_type": "execute_result"
    }
   ],
   "source": [
    "data.keys()"
   ]
  },
  {
   "cell_type": "code",
   "execution_count": 98,
   "metadata": {},
   "outputs": [],
   "source": [
    "fc = data['Fulfilment Centers']\n",
    "regions = data['Regions']\n",
    "dist = data['Distances']\n",
    "items = data['Items']\n",
    "demand = data['Demand']"
   ]
  },
  {
   "cell_type": "code",
   "execution_count": 99,
   "metadata": {},
   "outputs": [],
   "source": [
    "fc_dict=dict(zip(fc['FC_name'],fc.capacity))"
   ]
  },
  {
   "cell_type": "code",
   "execution_count": 100,
   "metadata": {},
   "outputs": [],
   "source": [
    "wt_dict = dict(zip(items['item_ID'],items['shipping_weight']))"
   ]
  },
  {
   "cell_type": "code",
   "execution_count": 101,
   "metadata": {},
   "outputs": [],
   "source": [
    "st_dict = dict(zip(items.item_ID, items.storage_size))"
   ]
  },
  {
   "cell_type": "code",
   "execution_count": 44,
   "metadata": {},
   "outputs": [
    {
     "data": {
      "text/html": [
       "<div>\n",
       "<style>\n",
       "    .dataframe thead tr:only-child th {\n",
       "        text-align: right;\n",
       "    }\n",
       "\n",
       "    .dataframe thead th {\n",
       "        text-align: left;\n",
       "    }\n",
       "\n",
       "    .dataframe tbody tr th {\n",
       "        vertical-align: top;\n",
       "    }\n",
       "</style>\n",
       "<table border=\"1\" class=\"dataframe\">\n",
       "  <thead>\n",
       "    <tr style=\"text-align: right;\">\n",
       "      <th></th>\n",
       "      <th>region_ID</th>\n",
       "      <th>region_name</th>\n",
       "      <th>population_millions</th>\n",
       "      <th>lat</th>\n",
       "      <th>long</th>\n",
       "    </tr>\n",
       "  </thead>\n",
       "  <tbody>\n",
       "    <tr>\n",
       "      <th>0</th>\n",
       "      <td>0</td>\n",
       "      <td>Kings County, NY</td>\n",
       "      <td>16.133722</td>\n",
       "      <td>41.547035</td>\n",
       "      <td>-74.786319</td>\n",
       "    </tr>\n",
       "    <tr>\n",
       "      <th>1</th>\n",
       "      <td>1</td>\n",
       "      <td>Santa Clara County, CA</td>\n",
       "      <td>15.146029</td>\n",
       "      <td>37.572332</td>\n",
       "      <td>-121.399244</td>\n",
       "    </tr>\n",
       "    <tr>\n",
       "      <th>2</th>\n",
       "      <td>2</td>\n",
       "      <td>Miami-Dade County, FL</td>\n",
       "      <td>14.543862</td>\n",
       "      <td>27.626951</td>\n",
       "      <td>-81.558710</td>\n",
       "    </tr>\n",
       "  </tbody>\n",
       "</table>\n",
       "</div>"
      ],
      "text/plain": [
       "   region_ID             region_name  population_millions        lat  \\\n",
       "0          0        Kings County, NY            16.133722  41.547035   \n",
       "1          1  Santa Clara County, CA            15.146029  37.572332   \n",
       "2          2   Miami-Dade County, FL            14.543862  27.626951   \n",
       "\n",
       "         long  \n",
       "0  -74.786319  \n",
       "1 -121.399244  \n",
       "2  -81.558710  "
      ]
     },
     "execution_count": 44,
     "metadata": {},
     "output_type": "execute_result"
    }
   ],
   "source": [
    "regions"
   ]
  },
  {
   "cell_type": "code",
   "execution_count": 126,
   "metadata": {
    "collapsed": true
   },
   "outputs": [],
   "source": [
    "mod = grb.Model()\n",
    "#decision variable\n",
    "x= {}\n",
    "for name in fc['FC_name']:\n",
    "    for region in regions['region_ID']:\n",
    "        for item in items['item_ID']:\n",
    "            x[name,region,item]=mod.addVar(lb=0,name='x[{0},{1},{2}]'.format(name,region,item))"
   ]
  },
  {
   "cell_type": "code",
   "execution_count": 127,
   "metadata": {},
   "outputs": [],
   "source": [
    "#constraints\n",
    "capacity_constr = {}\n",
    "for name in fc_dict.keys():\n",
    "    capacity_constr[name] = mod.addConstr(sum(x[name, region, item]*st_dict[item] for region in regions['region_ID'] for item in st_dict.keys() ) <=fc_dict[name], name = 'Capacity for FC '+name)\n",
    "\n",
    "demand_constr = {}\n",
    "for region in regions['region_ID']:\n",
    "    for item in items['item_ID']:\n",
    "        demand_constr[region]=mod.addConstr(sum(x[name,region,item] for name in fc['FC_name'])>=demand[region][item], name='demand for region '+ str(region) + ' and item '+str(item))"
   ]
  },
  {
   "cell_type": "code",
   "execution_count": 128,
   "metadata": {},
   "outputs": [],
   "source": [
    "#objective\n",
    "mod.setObjective(1.38*sum(x[name,region, item]*dist[name][region]*wt_dict[item] for name in fc['FC_name'] for region in regions['region_ID'] for item in wt_dict.keys()))"
   ]
  },
  {
   "cell_type": "code",
   "execution_count": 129,
   "metadata": {},
   "outputs": [],
   "source": [
    "mod.setParam('OutputFlag',False)\n",
    "mod.optimize()"
   ]
  },
  {
   "cell_type": "code",
   "execution_count": 154,
   "metadata": {},
   "outputs": [
    {
     "name": "stdout",
     "output_type": "stream",
     "text": [
      "Optimal Value is 3400.769189999999\n"
     ]
    }
   ],
   "source": [
    "print(\"Optimal Value is {0}\".format(mod.ObjVal))"
   ]
  },
  {
   "cell_type": "code",
   "execution_count": 150,
   "metadata": {},
   "outputs": [
    {
     "name": "stdout",
     "output_type": "stream",
     "text": [
      "Optimal solution\n",
      "\tx[A,0,1]=125.0\n",
      "\tx[A,1,0]=100.0\n",
      "\tx[A,1,1]=200.0\n",
      "\tx[A,2,1]=100.0\n",
      "\tx[B,0,0]=500.0\n",
      "\tx[B,0,1]=75.0\n",
      "\tx[B,2,0]=350.0\n"
     ]
    }
   ],
   "source": [
    "print('Optimal solution')\n",
    "optSol = {}\n",
    "for var in mod.getVars():\n",
    "    if(var.x!=0):\n",
    "        optSol[var.VarName]= var.x\n",
    "        print('\\t{0}={1}'.format(var.VarName,var.x))"
   ]
  },
  {
   "cell_type": "code",
   "execution_count": 144,
   "metadata": {},
   "outputs": [
    {
     "name": "stdout",
     "output_type": "stream",
     "text": [
      "Shadow Price\n",
      "\tCapacity for FC A: 0.0\n",
      "\tCapacity for FC B: -0.6362076\n",
      "\tdemand for region 0 and item 0: 3.2425859999999993\n",
      "\tdemand for region 0 and item 1: 2.141208\n",
      "\tdemand for region 1 and item 0: 5.956631999999999\n",
      "\tdemand for region 1 and item 1: 1.985544\n",
      "\tdemand for region 2 and item 0: 2.4390534\n",
      "\tdemand for region 2 and item 1: 1.4100149999999998\n"
     ]
    }
   ],
   "source": [
    "print(\"Shadow Price\")\n",
    "##We only care about shadow price of capacity as we do not control demand. \n",
    "shadow = {}\n",
    "for constr in mod.getConstrs():\n",
    "    print('\\t{0}: {1}'.format(constr.ConstrName, constr.PI))\n",
    "    shadow[constr.ConstrName]=constr.PI"
   ]
  },
  {
   "cell_type": "code",
   "execution_count": 148,
   "metadata": {},
   "outputs": [],
   "source": [
    "SP = pd.DataFrame.from_dict(shadow, orient='index')"
   ]
  },
  {
   "cell_type": "code",
   "execution_count": 151,
   "metadata": {},
   "outputs": [],
   "source": [
    "OS = pd.DataFrame.from_dict(optSol, orient='index')"
   ]
  },
  {
   "cell_type": "code",
   "execution_count": 158,
   "metadata": {},
   "outputs": [],
   "source": [
    "SP.to_excel(writer, sheet_name='Shadow Price')\n",
    "OS.to_excel(writer, sheet_name='Optimal Solution')"
   ]
  },
  {
   "cell_type": "code",
   "execution_count": 165,
   "metadata": {},
   "outputs": [],
   "source": [
    "df =pd.DataFrame([mod.ObjVal])"
   ]
  },
  {
   "cell_type": "code",
   "execution_count": 166,
   "metadata": {},
   "outputs": [],
   "source": [
    "df.to_excel(writer, sheet_name='Optimal Value')"
   ]
  },
  {
   "cell_type": "code",
   "execution_count": 167,
   "metadata": {
    "collapsed": true
   },
   "outputs": [],
   "source": [
    "writer.save()"
   ]
  }
 ],
 "metadata": {
  "kernelspec": {
   "display_name": "Python 3",
   "language": "python",
   "name": "python3"
  },
  "language_info": {
   "codemirror_mode": {
    "name": "ipython",
    "version": 3
   },
   "file_extension": ".py",
   "mimetype": "text/x-python",
   "name": "python",
   "nbconvert_exporter": "python",
   "pygments_lexer": "ipython3",
   "version": "3.6.3"
  }
 },
 "nbformat": 4,
 "nbformat_minor": 2
}
